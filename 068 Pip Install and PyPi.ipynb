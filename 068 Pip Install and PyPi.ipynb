{
 "cells": [
  {
   "cell_type": "markdown",
   "metadata": {},
   "source": [
    "##### * PyPi is a repository for open-source third-party Python packages.\n",
    "##### * It's similar to RubyGems in the Ruby world, PHP's Packagist, CPAN for Perl, and NPM for Node.js. \n",
    "##### * So far we've really only usedlibraries that come internally with Python.\n",
    "##### * There are many other libraries available that people have open-sourced and shared on PyPi.\n",
    "##### * We can use pip install at the command line to install these packages. \n",
    "##### *  By installing Python from python.org or through the Anaconda distribution you also installed pip\n",
    "##### * pip is  a simple way to download packages at your command line directly from the PyPi repository\n",
    "##### * There are packages already created for almost any use case you can think of!\n",
    "##### * A quick google search will usually help you discover a link to the PyPi page for the package, or for the package documentation.\n",
    "##### * Let's quickly show you how to download and install external packages.\n",
    "    *Windows Users: Cpmmand Prompt\n",
    "    * MacOS/Linux Users: Terminal"
   ]
  },
  {
   "cell_type": "code",
   "execution_count": null,
   "metadata": {},
   "outputs": [],
   "source": []
  }
 ],
 "metadata": {
  "kernelspec": {
   "display_name": "Python 3",
   "language": "python",
   "name": "python3"
  },
  "language_info": {
   "codemirror_mode": {
    "name": "ipython",
    "version": 3
   },
   "file_extension": ".py",
   "mimetype": "text/x-python",
   "name": "python",
   "nbconvert_exporter": "python",
   "pygments_lexer": "ipython3",
   "version": "3.7.1"
  }
 },
 "nbformat": 4,
 "nbformat_minor": 2
}
