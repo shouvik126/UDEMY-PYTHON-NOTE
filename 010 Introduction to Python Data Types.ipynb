{
 "cells": [
  {
   "cell_type": "code",
   "execution_count": 7,
   "metadata": {},
   "outputs": [
    {
     "name": "stdout",
     "output_type": "stream",
     "text": [
      "300\n"
     ]
    }
   ],
   "source": [
    "#Integer-------int\n",
    "#Whole number,such as:\n",
    "#3 300 200\n",
    "no=300\n",
    "print(no)"
   ]
  },
  {
   "cell_type": "code",
   "execution_count": 8,
   "metadata": {},
   "outputs": [
    {
     "name": "stdout",
     "output_type": "stream",
     "text": [
      "4.6\n"
     ]
    }
   ],
   "source": [
    "#Floating point--------float\n",
    "#NUmber with a decimal point:\n",
    "#2.3 4.6 100.0\n",
    "no=4.6\n",
    "print(no)"
   ]
  },
  {
   "cell_type": "code",
   "execution_count": 9,
   "metadata": {},
   "outputs": [
    {
     "name": "stdout",
     "output_type": "stream",
     "text": [
      "2000\n",
      "sammy\n",
      "hello\n"
     ]
    }
   ],
   "source": [
    "#String--------str\n",
    "#Ordered sequence of characters:\n",
    "#\"hello\" 'sammy' \"2000\"\n",
    "no=\"2000\"\n",
    "print(no)\n",
    "name='sammy'\n",
    "print(name)\n",
    "name2=\"hello\"\n",
    "print(name2)"
   ]
  },
  {
   "cell_type": "code",
   "execution_count": 10,
   "metadata": {},
   "outputs": [
    {
     "name": "stdout",
     "output_type": "stream",
     "text": [
      "[10, 'hello', 200.3]\n"
     ]
    }
   ],
   "source": [
    "#Lists--------list\n",
    "#Ordered sequence of objects:\n",
    "#[10,\"hello\",200.3]\n",
    "no=[10,\"hello\",200.3]\n",
    "print(no)"
   ]
  },
  {
   "cell_type": "code",
   "execution_count": 12,
   "metadata": {},
   "outputs": [
    {
     "name": "stdout",
     "output_type": "stream",
     "text": [
      "{'mykey': 'value', 'name': 'shouvik'}\n"
     ]
    }
   ],
   "source": [
    "#Dictionaries--------dict\n",
    "#Unordered Key:Value pairs:\n",
    "#{\"mykey\",\"value\",\"name\":\"shouvik\"}\n",
    "no={\"mykey\":\"value\",\"name\":\"shouvik\"}\n",
    "print(no)"
   ]
  },
  {
   "cell_type": "code",
   "execution_count": 14,
   "metadata": {},
   "outputs": [
    {
     "name": "stdout",
     "output_type": "stream",
     "text": [
      "(10, 'hello', 202.3)\n"
     ]
    }
   ],
   "source": [
    "#Tuples--------tup\n",
    "#Unordered immutable sequence of objects:\n",
    "#(10,\"hello\",200.3)\n",
    "no=(10,\"hello\",202.3)\n",
    "print(no)"
   ]
  },
  {
   "cell_type": "code",
   "execution_count": 17,
   "metadata": {},
   "outputs": [
    {
     "name": "stdout",
     "output_type": "stream",
     "text": [
      "{'b', 10, 'a'}\n"
     ]
    }
   ],
   "source": [
    "#Sets--------set\n",
    "#Unordered collections of unique objects:\n",
    "#{\"a\",\"b\"}\n",
    "no={\"a\",\"b\",\"b\",10}\n",
    "print(no)"
   ]
  },
  {
   "cell_type": "code",
   "execution_count": 19,
   "metadata": {},
   "outputs": [
    {
     "name": "stdout",
     "output_type": "stream",
     "text": [
      "True\n",
      "False\n"
     ]
    }
   ],
   "source": [
    "#Booleans--------bool\n",
    "#Logical value indicating True or False\n",
    "#True,False\n",
    "no=True\n",
    "print(no)\n",
    "no2=False\n",
    "print(no2)"
   ]
  },
  {
   "cell_type": "code",
   "execution_count": null,
   "metadata": {},
   "outputs": [],
   "source": []
  }
 ],
 "metadata": {
  "kernelspec": {
   "display_name": "Python 3",
   "language": "python",
   "name": "python3"
  },
  "language_info": {
   "codemirror_mode": {
    "name": "ipython",
    "version": 3
   },
   "file_extension": ".py",
   "mimetype": "text/x-python",
   "name": "python",
   "nbconvert_exporter": "python",
   "pygments_lexer": "ipython3",
   "version": "3.7.1"
  }
 },
 "nbformat": 4,
 "nbformat_minor": 2
}
