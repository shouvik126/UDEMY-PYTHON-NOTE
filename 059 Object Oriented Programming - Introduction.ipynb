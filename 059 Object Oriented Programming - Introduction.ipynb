{
 "cells": [
  {
   "cell_type": "markdown",
   "metadata": {},
   "source": [
    "#### * Object Oriented Programming (OOP)allows programmers to create their own objects that have methods and attributes.\n",
    "#### *recall that after defining a string,list,dictionary, or other objects, you were able to call methods off of them with the .method_name() syntex.\n",
    "#### *These methods act as functions that use information about the object, as well as the object itself to return results, or change the current object.\n",
    "#### *For example this includes appending to a list,or counting the occurances of an element in tuple. \n",
    "#### *OOP allows users to create their own objects.\n",
    "#### *The general format is often confusing when first encountered, and its usefulness may not be completely clear at first.\n",
    "#### *In general, OOP allows us to create code that is repeatable and organized."
   ]
  },
  {
   "cell_type": "code",
   "execution_count": 6,
   "metadata": {},
   "outputs": [
    {
     "data": {
      "text/plain": [
       "'class NameOfClass():\\n    def __init__(self,param1,param2):\\n        self.param1 = param1\\n        self.param2 = param2\\n    def some_method(self):\\n        # perform some action\\n        print(self.param1)\\n'"
      ]
     },
     "execution_count": 6,
     "metadata": {},
     "output_type": "execute_result"
    }
   ],
   "source": [
    "# Example \n",
    "'''class NameOfClass():\n",
    "    def __init__(self,param1,param2):\n",
    "        self.param1 = param1\n",
    "        self.param2 = param2\n",
    "    def some_method(self):\n",
    "        # perform some action\n",
    "        print(self.param1)\n",
    "'''"
   ]
  },
  {
   "cell_type": "code",
   "execution_count": null,
   "metadata": {},
   "outputs": [],
   "source": []
  }
 ],
 "metadata": {
  "kernelspec": {
   "display_name": "Python 3",
   "language": "python",
   "name": "python3"
  },
  "language_info": {
   "codemirror_mode": {
    "name": "ipython",
    "version": 3
   },
   "file_extension": ".py",
   "mimetype": "text/x-python",
   "name": "python",
   "nbconvert_exporter": "python",
   "pygments_lexer": "ipython3",
   "version": "3.7.1"
  }
 },
 "nbformat": 4,
 "nbformat_minor": 2
}
