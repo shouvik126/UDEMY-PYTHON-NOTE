{
 "cells": [
  {
   "cell_type": "markdown",
   "metadata": {},
   "source": [
    "##### * An often confusing part of Python is a mysterious line of code:\n",
    "    * if __name__ == \"__main__\"\n",
    "    \n",
    "##### * Sometimes when you are importing from a module, you would like to know whether a modules function is being used as an import, or if you are using the original.py file of that module."
   ]
  },
  {
   "cell_type": "code",
   "execution_count": null,
   "metadata": {},
   "outputs": [],
   "source": []
  }
 ],
 "metadata": {
  "kernelspec": {
   "display_name": "Python 3",
   "language": "python",
   "name": "python3"
  },
  "language_info": {
   "codemirror_mode": {
    "name": "ipython",
    "version": 3
   },
   "file_extension": ".py",
   "mimetype": "text/x-python",
   "name": "python",
   "nbconvert_exporter": "python",
   "pygments_lexer": "ipython3",
   "version": "3.7.3"
  }
 },
 "nbformat": 4,
 "nbformat_minor": 2
}
