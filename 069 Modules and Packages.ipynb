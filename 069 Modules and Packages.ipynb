{
 "cells": [
  {
   "cell_type": "markdown",
   "metadata": {},
   "source": [
    "##### * Now that we understand how to install external packages, let's explore how to create our own modules and packages.\n",
    "##### * Modules are just .py scripts that you call in another .py script.\n",
    "##### * Packages are a collection of modules.\n",
    "##### * Let's create some examples!"
   ]
  },
  {
   "cell_type": "markdown",
   "metadata": {},
   "source": [
    "##### * To make any directory in to a whole python package then we have to create a empty file name __init__.py file under that directory\n",
    "##### * If we want to call any sub package the  we have to use main_package.subpackage\n",
    "        EX: from main_package.subpackage import module_name\n",
    "                module_name.function_name()\n",
    "##### * If we import function name directly from module then we don't need to provide module name before function name at the time of function calling\n",
    "        EX:\n",
    "            from module_name import function_name\n",
    "            function_name()"
   ]
  },
  {
   "cell_type": "code",
   "execution_count": null,
   "metadata": {},
   "outputs": [],
   "source": []
  }
 ],
 "metadata": {
  "kernelspec": {
   "display_name": "Python 3",
   "language": "python",
   "name": "python3"
  },
  "language_info": {
   "codemirror_mode": {
    "name": "ipython",
    "version": 3
   },
   "file_extension": ".py",
   "mimetype": "text/x-python",
   "name": "python",
   "nbconvert_exporter": "python",
   "pygments_lexer": "ipython3",
   "version": "3.7.3"
  }
 },
 "nbformat": 4,
 "nbformat_minor": 2
}
