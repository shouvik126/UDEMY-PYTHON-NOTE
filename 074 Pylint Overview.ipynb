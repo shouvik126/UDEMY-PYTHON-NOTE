{
 "cells": [
  {
   "cell_type": "markdown",
   "metadata": {},
   "source": [
    "## Unit Testing"
   ]
  },
  {
   "cell_type": "markdown",
   "metadata": {},
   "source": [
    "###### * As you begin to expand to larger multi-file projects it becomes important to have tests in place.\n",
    "##### * This way as you make changes or update your code, you can run your test files to make sure previous code still runs as expected"
   ]
  },
  {
   "cell_type": "markdown",
   "metadata": {},
   "source": [
    "#### * There are several testing tools, we will focus on two:\n",
    "    * pylint: This is a library that looks at your code and reports back possible issues.\n",
    "    * unittest: This built-in library will allow to test your own programs and check you are getting desired outputs."
   ]
  },
  {
   "cell_type": "markdown",
   "metadata": {},
   "source": [
    "#### * We'll begin by showing you how to use pylint to check your code for possible errors and styling.\n",
    "#### * Python as a set of style convention rules known as \"PEP 8\"\n",
    "#### * Afterwards we will explore how to test our code with the built-in unittest library.\n",
    "#### * For this lecture we will be creating .py script in sublime.\n",
    "#### * You can still use the associated notebook for code using the %%writefile magic jupyter command.\n",
    "#### * Let's get started"
   ]
  },
  {
   "cell_type": "code",
   "execution_count": null,
   "metadata": {},
   "outputs": [],
   "source": []
  }
 ],
 "metadata": {
  "kernelspec": {
   "display_name": "Python 3",
   "language": "python",
   "name": "python3"
  },
  "language_info": {
   "codemirror_mode": {
    "name": "ipython",
    "version": 3
   },
   "file_extension": ".py",
   "mimetype": "text/x-python",
   "name": "python",
   "nbconvert_exporter": "python",
   "pygments_lexer": "ipython3",
   "version": "3.7.3"
  }
 },
 "nbformat": 4,
 "nbformat_minor": 2
}
