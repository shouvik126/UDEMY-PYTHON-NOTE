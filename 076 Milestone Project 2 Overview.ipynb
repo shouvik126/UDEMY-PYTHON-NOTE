{
 "cells": [
  {
   "cell_type": "markdown",
   "metadata": {},
   "source": [
    "##### * For our version of the game we will only have a computer dealer and a human player.\n",
    "##### * We start with a normal deck of cards, you will create a representation of a deck with Python"
   ]
  },
  {
   "cell_type": "markdown",
   "metadata": {},
   "source": [
    "##### * Special Rules:\n",
    "    * Face Cards (Jack,Queen,King) count as a value of 10.\n",
    "    * Aces can count as either 1 or 11 whichever value is preferable to the player."
   ]
  },
  {
   "cell_type": "code",
   "execution_count": null,
   "metadata": {},
   "outputs": [],
   "source": []
  }
 ],
 "metadata": {
  "kernelspec": {
   "display_name": "Python 3",
   "language": "python",
   "name": "python3"
  },
  "language_info": {
   "codemirror_mode": {
    "name": "ipython",
    "version": 3
   },
   "file_extension": ".py",
   "mimetype": "text/x-python",
   "name": "python",
   "nbconvert_exporter": "python",
   "pygments_lexer": "ipython3",
   "version": "3.7.3"
  }
 },
 "nbformat": 4,
 "nbformat_minor": 2
}
